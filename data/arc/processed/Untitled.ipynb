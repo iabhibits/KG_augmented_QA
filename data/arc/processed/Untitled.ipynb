{
 "cells": [
  {
   "cell_type": "code",
   "execution_count": 28,
   "metadata": {},
   "outputs": [],
   "source": [
    "def _arc(path):\n",
    "    with open(path, encoding='utf_8') as f:\n",
    "        f = csv.reader(f)\n",
    "        st = []\n",
    "        at = []\n",
    "        qt = []\n",
    "        y = []\n",
    "        for i, line in enumerate(tqdm(list(f), ncols=80, leave=False)):\n",
    "            if i > 0:\n",
    "                s = [line[5], line[6], line[7], line[8]]\n",
    "                a = [line[1], line[2], line[3], line[4]]\n",
    "                q = [line[-1]]\n",
    "                st.append(s)\n",
    "                at.append(a)\n",
    "                qt.append(q)\n",
    "                y.append(ord(line[0]) - ord('A'))\n",
    "                # print(ord(line[0]) - ord('A'))\n",
    "        return st, at, qt, y"
   ]
  },
  {
   "cell_type": "code",
   "execution_count": 9,
   "metadata": {},
   "outputs": [],
   "source": [
    "import pandas as pd\n",
    "import csv\n",
    "import tqdm"
   ]
  },
  {
   "cell_type": "code",
   "execution_count": 12,
   "metadata": {},
   "outputs": [],
   "source": []
  },
  {
   "cell_type": "code",
   "execution_count": 14,
   "metadata": {},
   "outputs": [
    {
     "ename": "TypeError",
     "evalue": "'module' object is not callable",
     "output_type": "error",
     "traceback": [
      "\u001b[0;31m---------------------------------------------------------------------------\u001b[0m",
      "\u001b[0;31mTypeError\u001b[0m                                 Traceback (most recent call last)",
      "\u001b[0;32m<ipython-input-14-acf93e9ba01b>\u001b[0m in \u001b[0;36m<module>\u001b[0;34m\u001b[0m\n\u001b[1;32m      5\u001b[0m     \u001b[0mqt\u001b[0m \u001b[0;34m=\u001b[0m \u001b[0;34m[\u001b[0m\u001b[0;34m]\u001b[0m\u001b[0;34m\u001b[0m\u001b[0;34m\u001b[0m\u001b[0m\n\u001b[1;32m      6\u001b[0m     \u001b[0my\u001b[0m \u001b[0;34m=\u001b[0m \u001b[0;34m[\u001b[0m\u001b[0;34m]\u001b[0m\u001b[0;34m\u001b[0m\u001b[0;34m\u001b[0m\u001b[0m\n\u001b[0;32m----> 7\u001b[0;31m     \u001b[0;32mfor\u001b[0m \u001b[0mi\u001b[0m\u001b[0;34m,\u001b[0m \u001b[0mline\u001b[0m \u001b[0;32min\u001b[0m \u001b[0menumerate\u001b[0m\u001b[0;34m(\u001b[0m\u001b[0mtqdm\u001b[0m\u001b[0;34m(\u001b[0m\u001b[0mlist\u001b[0m\u001b[0;34m(\u001b[0m\u001b[0mf\u001b[0m\u001b[0;34m)\u001b[0m\u001b[0;34m,\u001b[0m \u001b[0mncols\u001b[0m\u001b[0;34m=\u001b[0m\u001b[0;36m80\u001b[0m\u001b[0;34m,\u001b[0m \u001b[0mleave\u001b[0m\u001b[0;34m=\u001b[0m\u001b[0;32mFalse\u001b[0m\u001b[0;34m)\u001b[0m\u001b[0;34m)\u001b[0m\u001b[0;34m:\u001b[0m\u001b[0;34m\u001b[0m\u001b[0;34m\u001b[0m\u001b[0m\n\u001b[0m\u001b[1;32m      8\u001b[0m                 \u001b[0;32mif\u001b[0m \u001b[0mi\u001b[0m \u001b[0;34m>\u001b[0m \u001b[0;36m0\u001b[0m\u001b[0;34m:\u001b[0m\u001b[0;34m\u001b[0m\u001b[0;34m\u001b[0m\u001b[0m\n\u001b[1;32m      9\u001b[0m                     \u001b[0ms\u001b[0m \u001b[0;34m=\u001b[0m \u001b[0;34m[\u001b[0m\u001b[0mline\u001b[0m\u001b[0;34m[\u001b[0m\u001b[0;36m5\u001b[0m\u001b[0;34m]\u001b[0m\u001b[0;34m,\u001b[0m \u001b[0mline\u001b[0m\u001b[0;34m[\u001b[0m\u001b[0;36m6\u001b[0m\u001b[0;34m]\u001b[0m\u001b[0;34m,\u001b[0m \u001b[0mline\u001b[0m\u001b[0;34m[\u001b[0m\u001b[0;36m7\u001b[0m\u001b[0;34m]\u001b[0m\u001b[0;34m,\u001b[0m \u001b[0mline\u001b[0m\u001b[0;34m[\u001b[0m\u001b[0;36m8\u001b[0m\u001b[0;34m]\u001b[0m\u001b[0;34m]\u001b[0m\u001b[0;34m\u001b[0m\u001b[0;34m\u001b[0m\u001b[0m\n",
      "\u001b[0;31mTypeError\u001b[0m: 'module' object is not callable"
     ]
    }
   ],
   "source": [
    "with open('Train_Final_complete.csv', encoding='utf_8') as f:\n",
    "    f = csv.reader(f)\n",
    "    st = []\n",
    "    at = []\n",
    "    qt = []\n",
    "    y = []\n",
    "    for i, line in enumerate(tqdm(list(f), ncols=80, leave=False)):\n",
    "                if i > 0:\n",
    "                    s = [line[5], line[6], line[7], line[8]]\n",
    "                    print(s)\n",
    "                    a = [line[1], line[2], line[3], line[4]]\n",
    "                    print(a)\n",
    "                    q = [line[-1]]\n",
    "                    print(q)\n",
    "                    st.append(s)\n",
    "                    at.append(a)\n",
    "                    qt.append(q)\n",
    "                    y.append(ord(line[0]) - ord('A'))\n"
   ]
  },
  {
   "cell_type": "code",
   "execution_count": 17,
   "metadata": {},
   "outputs": [],
   "source": [
    "data = csv.reader('Train_Final_complete.csv')"
   ]
  },
  {
   "cell_type": "code",
   "execution_count": 27,
   "metadata": {},
   "outputs": [
    {
     "name": "stdout",
     "output_type": "stream",
     "text": [
      "Column names are answerKey, option_A, option_B, option_C, option_D, concat_supports_A, concat_supports_B, concat_supports_C, concat_supports_D, hypothesis_A, hypothesis_B, hypothesis_C, hypothesis_D, id, question_stem, , \n",
      "['A', 'dry palms', 'wet palms', 'palms covered with oil', 'palms covered with lotion', 'Motion produces heat when we rub the palms of our hands briskly together. Cutex Cake Polish rubbed on the palm of the hand and passed quickly over the nails, gives them a delightful polish. Cutex Cake Polish rubbed on the palm of the hand and passed quickly over the nails gives them a delightful, lasting polish. He was warm and dry, but his skin was pale. Glabrous skin covers the surface of the palms of the hands, soles of the feet, and flexor surfaces of the digits. Rub it briskly with a warm dry towel and keep it in a warm room. of the warm oil and place in palm of hand. Leave them dry if you want tender skin. When you rub it in the palm of your hand, it will fall apart and you will feel the grit rub into your palm if it is sand. Finish with Cutex Nail Polish Cutex Cake Polish rubbed on the palm of the hand and passed quickly over the nails gives you just the waterproof finish you want. Doctors or nurses squeeze the gel on to their hands and rub them together for 15 seconds until the hands are dry. If a woman has calluses on her palms rather than on the backs of her hands, this represents information about where her skin gets rubbed most. It is then wrapped in a warm towel and flannel and dried by patting, not rubbing. Dry the seed heads further inside, and then rub them between your hands or in a sieve to separate them. Wash your hands with soap and warm water, and dry them well. Rub the palms of your hands back and forth across each other. Skin: Very Dry, Fair, Warm. Most palms have skin. If a bird feels cold or cool in the palm of your hand, he has to be on a heat source to get warm again. Use warm running water and rub dry with a soft towel.', \"Motion produces heat when we rub the palms of our hands briskly together. Cutex Cake Polish rubbed on the palm of the hand and passed quickly over the nails, gives them a delightful polish. Cutex Cake Polish rubbed on the palm of the hand and passed quickly over the nails gives them a delightful, lasting polish. Glabrous skin covers the surface of the palms of the hands, soles of the feet, and flexor surfaces of the digits. On the other hand, the area is wet when the sea surface temperatures in the Atlantic are warm. of the warm oil and place in palm of hand. When you rub it in the palm of your hand, it will fall apart and you will feel the grit rub into your palm if it is sand. Finish with Cutex Nail Polish Cutex Cake Polish rubbed on the palm of the hand and passed quickly over the nails gives you just the waterproof finish you want. Wet hands with warm running water. If a woman has calluses on her palms rather than on the backs of her hands, this represents information about where her skin gets rubbed most. Rub the palms of your hands back and forth across each other. Most palms have skin. If a bird feels cold or cool in the palm of your hand, he has to be on a heat source to get warm again. of his hand, fingers and palm. The bar is rubbed between wet hands much like a bar of soap. A branch of the median nerve running to the skin of the palm of the hand. The bark of black ash is scaly and crumbles easily when rubbed with the palm of the hand. This is a temporary skin condition where the skin on the palms of the hand or feet becomes wrinkly. In the warm, wet atmosphere that exists in most bathrooms, these organisms can grow quickly, and they could spread to your skin if you don't change your sponge regularly. Most palms have bare skin.\", \"Heat up the oil a bit in the microwave and rub it into the skin with your hands. of the warm oil and place in palm of hand. Glabrous skin covers the surface of the palms of the hands, soles of the feet, and flexor surfaces of the digits. Motion produces heat when we rub the palms of our hands briskly together. Cutex Cake Polish rubbed on the palm of the hand and passed quickly over the nails, gives them a delightful polish. Cutex Cake Polish rubbed on the palm of the hand and passed quickly over the nails gives them a delightful, lasting polish. Most layers cover skin surfaces. Palm oil is an edible vegetable oil produced by the oil palms in the genus Elaeis . To make their skin crisp, you can rub them lightly with oil or butter. What to Do: Cover exposed skin, but do not rub the affected area in an attempt to warm it up. Palm oil forecast to overtake soybean oil as the most produced and traded edible oil by 2012. When you rub it in the palm of your hand, it will fall apart and you will feel the grit rub into your palm if it is sand. The procedure involves rubbing warm oils or gels on a person's skin with a coin or other flat metal object. They additionally get an oil rubbed all over them to help keep their skin healthy. Finish with Cutex Nail Polish Cutex Cake Polish rubbed on the palm of the hand and passed quickly over the nails gives you just the waterproof finish you want. C) a body surface covered with hair to keep them warm. If a woman has calluses on her palms rather than on the backs of her hands, this represents information about where her skin gets rubbed most. Some plants produce palm oil. The organic waste matter that is produced when processing oil palm, including oil palm shells and oil palm fruit bunches, can also be used to produce energy. Palm oil is mostly fungible .\", \"Glabrous skin covers the surface of the palms of the hands, soles of the feet, and flexor surfaces of the digits. Motion produces heat when we rub the palms of our hands briskly together. Put a drop of lotion on your hands and rub them together to spread the lotion out evenly. Cutex Cake Polish rubbed on the palm of the hand and passed quickly over the nails, gives them a delightful polish. You all can rub the lotion on your skin. Cutex Cake Polish rubbed on the palm of the hand and passed quickly over the nails gives them a delightful, lasting polish. Most layers cover skin surfaces. Most lotion protects skin. of the warm oil and place in palm of hand. What to Do: Cover exposed skin, but do not rub the affected area in an attempt to warm it up. Rub lotion on your hands, legs and even a small amount to your hair. When you rub it in the palm of your hand, it will fall apart and you will feel the grit rub into your palm if it is sand. Finish with Cutex Nail Polish Cutex Cake Polish rubbed on the palm of the hand and passed quickly over the nails gives you just the waterproof finish you want. C) a body surface covered with hair to keep them warm. If a woman has calluses on her palms rather than on the backs of her hands, this represents information about where her skin gets rubbed most. If you have dry skin, try anti-static hand lotion. Rub the palms of your hands back and forth across each other. Most palms have skin. If a bird feels cold or cool in the palm of your hand, he has to be on a heat source to get warm again. Melanin must cover the skin's entire surface, but the skin's surface is not completely covered in melanocytes.\", 'George wants to warm his hands quickly by rubbing them. Dry palms skin surface will produce the most heat.', 'George wants to warm his hands quickly by rubbing them. Wet palms skin surface will produce the most heat.', 'George wants to warm his hands quickly by rubbing them. Palms covered with oil skin surface will produce the most heat.', 'George wants to warm his hands quickly by rubbing them. Palms covered with lotion skin surface will produce the most heat.', 'Mercury_SC_415702', 'George wants to warm his hands quickly by rubbing them. Which skin surface will produce the most heat?', '', '']\n",
      "Processed 2 lines.\n"
     ]
    }
   ],
   "source": [
    "with open('Train_Final_complete.csv') as csv_file:\n",
    "    csv_reader = csv.reader(csv_file, delimiter=',')\n",
    "    line_count = 0\n",
    "    for row in csv_reader:\n",
    "        if line_count == 0:\n",
    "            print(f'Column names are {\", \".join(row)}')\n",
    "            line_count += 1\n",
    "        else:\n",
    "            print(row)\n",
    "            line_count += 1\n",
    "            break;\n",
    "    print(f'Processed {line_count} lines.')"
   ]
  },
  {
   "cell_type": "code",
   "execution_count": 20,
   "metadata": {},
   "outputs": [
    {
     "name": "stdout",
     "output_type": "stream",
     "text": [
      "3354\n"
     ]
    }
   ],
   "source": [
    "print(line_count)"
   ]
  },
  {
   "cell_type": "code",
   "execution_count": 22,
   "metadata": {},
   "outputs": [],
   "source": [
    "data = pd.read_csv('Train_Final_complete.csv')"
   ]
  },
  {
   "cell_type": "code",
   "execution_count": 23,
   "metadata": {},
   "outputs": [
    {
     "name": "stdout",
     "output_type": "stream",
     "text": [
      "(3353, 17)\n"
     ]
    }
   ],
   "source": [
    "print(data.shape)"
   ]
  },
  {
   "cell_type": "code",
   "execution_count": null,
   "metadata": {},
   "outputs": [],
   "source": []
  }
 ],
 "metadata": {
  "kernelspec": {
   "display_name": "Python 3",
   "language": "python",
   "name": "python3"
  },
  "language_info": {
   "codemirror_mode": {
    "name": "ipython",
    "version": 3
   },
   "file_extension": ".py",
   "mimetype": "text/x-python",
   "name": "python",
   "nbconvert_exporter": "python",
   "pygments_lexer": "ipython3",
   "version": "3.7.3"
  }
 },
 "nbformat": 4,
 "nbformat_minor": 2
}
